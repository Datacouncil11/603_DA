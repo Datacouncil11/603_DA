{
 "cells": [
  {
   "cell_type": "code",
   "execution_count": 1,
   "id": "cd51bae6",
   "metadata": {},
   "outputs": [
    {
     "name": "stdout",
     "output_type": "stream",
     "text": [
      "Enter your age35\n",
      "My age is : 35\n"
     ]
    }
   ],
   "source": [
    "a = int(input('Enter your age'))\n",
    "print('My age is :', a)"
   ]
  },
  {
   "cell_type": "code",
   "execution_count": 3,
   "id": "c33b1ba1",
   "metadata": {},
   "outputs": [
    {
     "name": "stdout",
     "output_type": "stream",
     "text": [
      "Enter your Hight3.5\n",
      "Enter your weight43\n",
      "Your Height is : 3.5 Your weight is: 43.0\n"
     ]
    }
   ],
   "source": [
    "g = float(input('Enter your Hight'))\n",
    "j = float(input('Enter your weight'))\n",
    "print('Your Height is :',g,'Your weight is:', j)"
   ]
  },
  {
   "cell_type": "code",
   "execution_count": 4,
   "id": "26056db7",
   "metadata": {},
   "outputs": [
    {
     "name": "stdout",
     "output_type": "stream",
     "text": [
      "Pleasse write your nameDhoni\n",
      "My name is : Dhoni\n"
     ]
    }
   ],
   "source": [
    "name = input('Pleasse write your name')\n",
    "print('My name is :', name)"
   ]
  },
  {
   "cell_type": "code",
   "execution_count": 5,
   "id": "b08ffa7e",
   "metadata": {},
   "outputs": [
    {
     "name": "stdout",
     "output_type": "stream",
     "text": [
      "Enter your first nameRohit\n",
      "Enter your Last nameSharma\n",
      "My first name is: Rohit My last name is: Sharma\n"
     ]
    }
   ],
   "source": [
    "name = input('Enter your first name')\n",
    "l_name= input('Enter your Last name')\n",
    "print('My first name is:', name, 'My last name is:', l_name)"
   ]
  },
  {
   "cell_type": "markdown",
   "id": "6164594a",
   "metadata": {},
   "source": [
    "# Data Strectures"
   ]
  },
  {
   "cell_type": "raw",
   "id": "cd6e3c6a",
   "metadata": {},
   "source": [
    "List\n",
    "List is written in squared brackets []\n",
    "We can write and update elements inside list"
   ]
  },
  {
   "cell_type": "code",
   "execution_count": 7,
   "id": "0c8f7c03",
   "metadata": {},
   "outputs": [],
   "source": [
    "s = [] #Empty list"
   ]
  },
  {
   "cell_type": "code",
   "execution_count": 8,
   "id": "50d6bce2",
   "metadata": {},
   "outputs": [],
   "source": [
    "l = [1,2,3,4,5]"
   ]
  },
  {
   "cell_type": "code",
   "execution_count": 9,
   "id": "6da36f7b",
   "metadata": {},
   "outputs": [
    {
     "name": "stdout",
     "output_type": "stream",
     "text": [
      "[1, 2, 3, 4, 5]\n"
     ]
    }
   ],
   "source": [
    "print(l)"
   ]
  },
  {
   "cell_type": "code",
   "execution_count": 10,
   "id": "4b80ac45",
   "metadata": {},
   "outputs": [
    {
     "data": {
      "text/plain": [
       "[1, 2, 3, 4, 5]"
      ]
     },
     "execution_count": 10,
     "metadata": {},
     "output_type": "execute_result"
    }
   ],
   "source": [
    "l"
   ]
  },
  {
   "cell_type": "code",
   "execution_count": 11,
   "id": "fdc8cc89",
   "metadata": {},
   "outputs": [],
   "source": [
    "k = ['Data', 'Science', 19,12.4, True] #mixed dataset"
   ]
  },
  {
   "cell_type": "code",
   "execution_count": 12,
   "id": "e121226c",
   "metadata": {},
   "outputs": [
    {
     "data": {
      "text/plain": [
       "['Data', 'Science', 19, 12.4, True]"
      ]
     },
     "execution_count": 12,
     "metadata": {},
     "output_type": "execute_result"
    }
   ],
   "source": [
    "k"
   ]
  },
  {
   "cell_type": "code",
   "execution_count": 13,
   "id": "ca0cf327",
   "metadata": {},
   "outputs": [],
   "source": [
    "# indexing"
   ]
  },
  {
   "cell_type": "code",
   "execution_count": 14,
   "id": "025dd86c",
   "metadata": {},
   "outputs": [
    {
     "data": {
      "text/plain": [
       "'Science'"
      ]
     },
     "execution_count": 14,
     "metadata": {},
     "output_type": "execute_result"
    }
   ],
   "source": [
    "k[1]"
   ]
  },
  {
   "cell_type": "code",
   "execution_count": 15,
   "id": "3a56214d",
   "metadata": {},
   "outputs": [
    {
     "data": {
      "text/plain": [
       "'Data'"
      ]
     },
     "execution_count": 15,
     "metadata": {},
     "output_type": "execute_result"
    }
   ],
   "source": [
    "k[0]"
   ]
  },
  {
   "cell_type": "code",
   "execution_count": 16,
   "id": "031eca08",
   "metadata": {},
   "outputs": [
    {
     "data": {
      "text/plain": [
       "12.4"
      ]
     },
     "execution_count": 16,
     "metadata": {},
     "output_type": "execute_result"
    }
   ],
   "source": [
    "k[3]"
   ]
  },
  {
   "cell_type": "code",
   "execution_count": 17,
   "id": "617a9177",
   "metadata": {},
   "outputs": [
    {
     "data": {
      "text/plain": [
       "True"
      ]
     },
     "execution_count": 17,
     "metadata": {},
     "output_type": "execute_result"
    }
   ],
   "source": [
    "k[4]"
   ]
  },
  {
   "cell_type": "code",
   "execution_count": null,
   "id": "47dfb6ac",
   "metadata": {},
   "outputs": [],
   "source": []
  }
 ],
 "metadata": {
  "kernelspec": {
   "display_name": "Python 3 (ipykernel)",
   "language": "python",
   "name": "python3"
  },
  "language_info": {
   "codemirror_mode": {
    "name": "ipython",
    "version": 3
   },
   "file_extension": ".py",
   "mimetype": "text/x-python",
   "name": "python",
   "nbconvert_exporter": "python",
   "pygments_lexer": "ipython3",
   "version": "3.11.5"
  }
 },
 "nbformat": 4,
 "nbformat_minor": 5
}
