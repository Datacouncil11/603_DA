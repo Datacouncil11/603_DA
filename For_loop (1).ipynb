{
 "cells": [
  {
   "cell_type": "code",
   "execution_count": 4,
   "id": "36bf4425",
   "metadata": {},
   "outputs": [
    {
     "name": "stdout",
     "output_type": "stream",
     "text": [
      "Write your course nameC++\n",
      "Enter your Coupn codeyfghc\n",
      "Plese select valid course\n"
     ]
    }
   ],
   "source": [
    "course = input('Write your course name')\n",
    "discount_coupon = input('Enter your Coupn code')\n",
    "\n",
    "if course == 'Python':\n",
    "    if discount_coupon == 'NEW2024':\n",
    "        print('You have discount of 1000$')\n",
    "    elif discount_coupon == 'FEB2024':\n",
    "        print('You have discount of 500$')\n",
    "    else:\n",
    "        print('Please write valid coupn code for course of Python')\n",
    "        \n",
    "elif course == 'Java':\n",
    "    if discount_coupon == 'NEW2024':\n",
    "        print('You have discount of 1000$')\n",
    "    elif discount_coupon == 'FEB2024':\n",
    "        print('You have discount of 500$')\n",
    "    else:\n",
    "        print('Plese write valid coupn code for course of Java')\n",
    "        \n",
    "else:\n",
    "    print('Plese select valid course')"
   ]
  },
  {
   "cell_type": "markdown",
   "id": "a9e418ff",
   "metadata": {},
   "source": [
    "For Loop"
   ]
  },
  {
   "cell_type": "code",
   "execution_count": 5,
   "id": "bc960023",
   "metadata": {},
   "outputs": [],
   "source": [
    "l = [1,2,3,4,5]"
   ]
  },
  {
   "cell_type": "code",
   "execution_count": 6,
   "id": "3dce374e",
   "metadata": {},
   "outputs": [
    {
     "name": "stdout",
     "output_type": "stream",
     "text": [
      "1\n",
      "2\n",
      "3\n",
      "4\n",
      "5\n"
     ]
    }
   ],
   "source": [
    "for num in l:\n",
    "    print(num)"
   ]
  },
  {
   "cell_type": "code",
   "execution_count": 7,
   "id": "5d2be033",
   "metadata": {},
   "outputs": [
    {
     "name": "stdout",
     "output_type": "stream",
     "text": [
      "11\n",
      "12\n",
      "13\n",
      "14\n",
      "15\n"
     ]
    }
   ],
   "source": [
    "for i in l:\n",
    "    print(i + 10)"
   ]
  },
  {
   "cell_type": "code",
   "execution_count": 9,
   "id": "8cd24b5b",
   "metadata": {},
   "outputs": [
    {
     "name": "stdout",
     "output_type": "stream",
     "text": [
      "2\n",
      "4\n",
      "6\n",
      "8\n",
      "10\n"
     ]
    }
   ],
   "source": [
    "for elements in l:\n",
    "    print( elements * 2)"
   ]
  },
  {
   "cell_type": "code",
   "execution_count": 10,
   "id": "88ca6633",
   "metadata": {},
   "outputs": [
    {
     "name": "stdout",
     "output_type": "stream",
     "text": [
      "D\n",
      "A\n",
      "T\n",
      "A\n"
     ]
    }
   ],
   "source": [
    "for i in \"DATA\":\n",
    "    print(i)"
   ]
  },
  {
   "cell_type": "code",
   "execution_count": 11,
   "id": "dfc57813",
   "metadata": {},
   "outputs": [],
   "source": [
    "p = (10,15,20,25)"
   ]
  },
  {
   "cell_type": "code",
   "execution_count": 12,
   "id": "6a0d4bd3",
   "metadata": {},
   "outputs": [
    {
     "name": "stdout",
     "output_type": "stream",
     "text": [
      "10\n",
      "15\n",
      "20\n",
      "25\n"
     ]
    }
   ],
   "source": [
    "for i in p:\n",
    "    print(i)"
   ]
  },
  {
   "cell_type": "code",
   "execution_count": 13,
   "id": "6bebd195",
   "metadata": {},
   "outputs": [],
   "source": [
    "l = [1,2,3.5,4.5,10+6j, True, 100,150]"
   ]
  },
  {
   "cell_type": "code",
   "execution_count": 14,
   "id": "21f2e918",
   "metadata": {},
   "outputs": [
    {
     "name": "stdout",
     "output_type": "stream",
     "text": [
      "1\n",
      "2\n",
      "100\n",
      "150\n"
     ]
    }
   ],
   "source": [
    "for i in l:\n",
    "    if type(i) == int:\n",
    "        print(i)"
   ]
  },
  {
   "cell_type": "code",
   "execution_count": 15,
   "id": "c658f30e",
   "metadata": {},
   "outputs": [],
   "source": [
    "g = [1,2,3.5,4.5,10+6j, 'Sachin', 'Dhoni',True, 100,150, 'Data','Science']"
   ]
  },
  {
   "cell_type": "code",
   "execution_count": null,
   "id": "8d401a7b",
   "metadata": {},
   "outputs": [],
   "source": []
  },
  {
   "cell_type": "code",
   "execution_count": 16,
   "id": "6337fd04",
   "metadata": {},
   "outputs": [
    {
     "name": "stdout",
     "output_type": "stream",
     "text": [
      "Sachin\n",
      "Dhoni\n",
      "Data\n",
      "Science\n"
     ]
    }
   ],
   "source": [
    "for i in g:\n",
    "    if type(i) == str:\n",
    "        print(i)"
   ]
  },
  {
   "cell_type": "code",
   "execution_count": 22,
   "id": "09f24e9e",
   "metadata": {},
   "outputs": [],
   "source": [
    "k = [[15, 54,52,52],1,2,3.5,4.5,10+6j, True, 100,150, False]"
   ]
  },
  {
   "cell_type": "code",
   "execution_count": 23,
   "id": "12e3dc91",
   "metadata": {},
   "outputs": [
    {
     "name": "stdout",
     "output_type": "stream",
     "text": [
      "15\n",
      "54\n",
      "52\n",
      "52\n"
     ]
    },
    {
     "ename": "TypeError",
     "evalue": "'int' object is not iterable",
     "output_type": "error",
     "traceback": [
      "\u001b[1;31m---------------------------------------------------------------------------\u001b[0m",
      "\u001b[1;31mTypeError\u001b[0m                                 Traceback (most recent call last)",
      "Cell \u001b[1;32mIn[23], line 2\u001b[0m\n\u001b[0;32m      1\u001b[0m \u001b[38;5;28;01mfor\u001b[39;00m i \u001b[38;5;129;01min\u001b[39;00m k:\n\u001b[1;32m----> 2\u001b[0m     \u001b[38;5;28;01mfor\u001b[39;00m num \u001b[38;5;129;01min\u001b[39;00m i:\n\u001b[0;32m      3\u001b[0m         \u001b[38;5;28mprint\u001b[39m(num)\n",
      "\u001b[1;31mTypeError\u001b[0m: 'int' object is not iterable"
     ]
    }
   ],
   "source": [
    "for i in k:\n",
    "    for num in i:\n",
    "        print(num)"
   ]
  },
  {
   "cell_type": "code",
   "execution_count": 24,
   "id": "88d89aa9",
   "metadata": {},
   "outputs": [],
   "source": [
    "o = ['Sachin', 'Gambhir','Dhoni','Rohit']"
   ]
  },
  {
   "cell_type": "code",
   "execution_count": 25,
   "id": "de1779e8",
   "metadata": {},
   "outputs": [
    {
     "name": "stdout",
     "output_type": "stream",
     "text": [
      "Sachin\n",
      "Gambhir\n",
      "Dhoni\n",
      "Rohit\n"
     ]
    }
   ],
   "source": [
    "for i in o:\n",
    "    print(i)"
   ]
  },
  {
   "cell_type": "code",
   "execution_count": 27,
   "id": "c0d89c27",
   "metadata": {},
   "outputs": [
    {
     "name": "stdout",
     "output_type": "stream",
     "text": [
      "S\n",
      "a\n",
      "c\n",
      "h\n",
      "i\n",
      "n\n",
      "G\n",
      "a\n",
      "m\n",
      "b\n",
      "h\n",
      "i\n",
      "r\n",
      "D\n",
      "h\n",
      "o\n",
      "n\n",
      "i\n",
      "R\n",
      "o\n",
      "h\n",
      "i\n",
      "t\n"
     ]
    }
   ],
   "source": [
    "for i in o:\n",
    "    for letter in i:\n",
    "        print(letter)"
   ]
  },
  {
   "cell_type": "code",
   "execution_count": null,
   "id": "e9ebd4f9",
   "metadata": {},
   "outputs": [],
   "source": []
  }
 ],
 "metadata": {
  "kernelspec": {
   "display_name": "Python 3 (ipykernel)",
   "language": "python",
   "name": "python3"
  },
  "language_info": {
   "codemirror_mode": {
    "name": "ipython",
    "version": 3
   },
   "file_extension": ".py",
   "mimetype": "text/x-python",
   "name": "python",
   "nbconvert_exporter": "python",
   "pygments_lexer": "ipython3",
   "version": "3.11.5"
  }
 },
 "nbformat": 4,
 "nbformat_minor": 5
}
