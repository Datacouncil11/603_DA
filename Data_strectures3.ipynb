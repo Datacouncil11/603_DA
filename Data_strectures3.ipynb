{
 "cells": [
  {
   "cell_type": "markdown",
   "id": "0803d668",
   "metadata": {},
   "source": [
    "Dictonary"
   ]
  },
  {
   "cell_type": "code",
   "execution_count": 3,
   "id": "c7d83b61",
   "metadata": {},
   "outputs": [],
   "source": [
    "d = {'a':20,'b':30}"
   ]
  },
  {
   "cell_type": "code",
   "execution_count": 4,
   "id": "c62ce13e",
   "metadata": {},
   "outputs": [
    {
     "data": {
      "text/plain": [
       "{'a': 20, 'b': 30}"
      ]
     },
     "execution_count": 4,
     "metadata": {},
     "output_type": "execute_result"
    }
   ],
   "source": [
    "d"
   ]
  },
  {
   "cell_type": "code",
   "execution_count": 5,
   "id": "d1cd3b84",
   "metadata": {},
   "outputs": [],
   "source": [
    "j = {'Name':'Sachin','Sports':'Cricket','Age':40,'Height':5.7 }"
   ]
  },
  {
   "cell_type": "code",
   "execution_count": 6,
   "id": "48eda04f",
   "metadata": {},
   "outputs": [
    {
     "data": {
      "text/plain": [
       "{'Name': 'Sachin', 'Sports': 'Cricket', 'Age': 40, 'Height': 5.7}"
      ]
     },
     "execution_count": 6,
     "metadata": {},
     "output_type": "execute_result"
    }
   ],
   "source": [
    "j"
   ]
  },
  {
   "cell_type": "code",
   "execution_count": 7,
   "id": "7307ca50",
   "metadata": {},
   "outputs": [
    {
     "data": {
      "text/plain": [
       "dict_keys(['Name', 'Sports', 'Age', 'Height'])"
      ]
     },
     "execution_count": 7,
     "metadata": {},
     "output_type": "execute_result"
    }
   ],
   "source": [
    "j.keys()"
   ]
  },
  {
   "cell_type": "code",
   "execution_count": 8,
   "id": "91f422fd",
   "metadata": {},
   "outputs": [
    {
     "data": {
      "text/plain": [
       "dict_values(['Sachin', 'Cricket', 40, 5.7])"
      ]
     },
     "execution_count": 8,
     "metadata": {},
     "output_type": "execute_result"
    }
   ],
   "source": [
    "j.values()"
   ]
  },
  {
   "cell_type": "code",
   "execution_count": 9,
   "id": "e883a44b",
   "metadata": {},
   "outputs": [
    {
     "data": {
      "text/plain": [
       "dict_items([('Name', 'Sachin'), ('Sports', 'Cricket'), ('Age', 40), ('Height', 5.7)])"
      ]
     },
     "execution_count": 9,
     "metadata": {},
     "output_type": "execute_result"
    }
   ],
   "source": [
    "j.items()"
   ]
  },
  {
   "cell_type": "code",
   "execution_count": 10,
   "id": "b764f53d",
   "metadata": {},
   "outputs": [],
   "source": [
    "j.update({'City':'Pune'})"
   ]
  },
  {
   "cell_type": "code",
   "execution_count": 11,
   "id": "91128f30",
   "metadata": {},
   "outputs": [
    {
     "data": {
      "text/plain": [
       "{'Name': 'Sachin',\n",
       " 'Sports': 'Cricket',\n",
       " 'Age': 40,\n",
       " 'Height': 5.7,\n",
       " 'City': 'Pune'}"
      ]
     },
     "execution_count": 11,
     "metadata": {},
     "output_type": "execute_result"
    }
   ],
   "source": [
    "j"
   ]
  },
  {
   "cell_type": "code",
   "execution_count": 13,
   "id": "2c597fe7",
   "metadata": {},
   "outputs": [
    {
     "data": {
      "text/plain": [
       "'Pune'"
      ]
     },
     "execution_count": 13,
     "metadata": {},
     "output_type": "execute_result"
    }
   ],
   "source": [
    "j.pop('City')"
   ]
  },
  {
   "cell_type": "code",
   "execution_count": 14,
   "id": "58057a8b",
   "metadata": {},
   "outputs": [
    {
     "data": {
      "text/plain": [
       "{'Name': 'Sachin', 'Sports': 'Cricket', 'Age': 40, 'Height': 5.7}"
      ]
     },
     "execution_count": 14,
     "metadata": {},
     "output_type": "execute_result"
    }
   ],
   "source": [
    "j"
   ]
  },
  {
   "cell_type": "markdown",
   "id": "6b443653",
   "metadata": {},
   "source": [
    "# If else"
   ]
  },
  {
   "cell_type": "code",
   "execution_count": 15,
   "id": "f7294327",
   "metadata": {},
   "outputs": [
    {
     "name": "stdout",
     "output_type": "stream",
     "text": [
      "Less than 20\n"
     ]
    }
   ],
   "source": [
    "if 10 < 20:\n",
    "    print('Less than 20')\n",
    "else : print('Not less than 20')"
   ]
  },
  {
   "cell_type": "code",
   "execution_count": 18,
   "id": "fea14910",
   "metadata": {},
   "outputs": [
    {
     "name": "stdout",
     "output_type": "stream",
     "text": [
      "Not greater than 10\n"
     ]
    }
   ],
   "source": [
    "a = 10\n",
    "if a > 15:\n",
    "    print('Greater than', a)\n",
    "else: print('Not greater than', a)"
   ]
  },
  {
   "cell_type": "code",
   "execution_count": 20,
   "id": "ed29e61b",
   "metadata": {},
   "outputs": [
    {
     "name": "stdout",
     "output_type": "stream",
     "text": [
      "Pass\n"
     ]
    }
   ],
   "source": [
    "marks = 40\n",
    "if marks > 35:\n",
    "    print('Pass')\n",
    "else: print('Fail')"
   ]
  },
  {
   "cell_type": "code",
   "execution_count": 24,
   "id": "8272e24f",
   "metadata": {},
   "outputs": [
    {
     "name": "stdout",
     "output_type": "stream",
     "text": [
      "Enter your marks55\n",
      "You are pass\n"
     ]
    }
   ],
   "source": [
    "marks = int(input('Enter your marks'))\n",
    "if marks > 35:\n",
    "    print('You are pass')\n",
    "else: print('You are fail')"
   ]
  },
  {
   "cell_type": "code",
   "execution_count": 28,
   "id": "d326e706",
   "metadata": {},
   "outputs": [
    {
     "name": "stdout",
     "output_type": "stream",
     "text": [
      "30\n",
      "You are fail\n"
     ]
    }
   ],
   "source": [
    "marks = int(input())\n",
    "if marks > 95:\n",
    "    print('A grade')\n",
    "elif marks > 70:\n",
    "    print('B Grade')\n",
    "elif marks > 50:\n",
    "    print('c Grade')\n",
    "elif marks > 35:\n",
    "    print('You aere only pass')\n",
    "else:\n",
    "    print('You are fail')"
   ]
  },
  {
   "cell_type": "code",
   "execution_count": 30,
   "id": "0fbf3a28",
   "metadata": {},
   "outputs": [
    {
     "name": "stdout",
     "output_type": "stream",
     "text": [
      "78\n",
      "45 - 90 range\n"
     ]
    }
   ],
   "source": [
    "marks = int(input())\n",
    "if marks < 35:\n",
    "    print('You are fail')\n",
    "elif marks > 35 and marks < 45:\n",
    "    print('Range b/w 35 to 45')\n",
    "    \n",
    "elif marks > 45 and marks < 100:\n",
    "    print('45 - 90 range')\n",
    "    \n",
    "else:\n",
    "    print('Please write valid maerks')"
   ]
  },
  {
   "cell_type": "code",
   "execution_count": null,
   "id": "0ecb2c24",
   "metadata": {},
   "outputs": [],
   "source": []
  }
 ],
 "metadata": {
  "kernelspec": {
   "display_name": "Python 3 (ipykernel)",
   "language": "python",
   "name": "python3"
  },
  "language_info": {
   "codemirror_mode": {
    "name": "ipython",
    "version": 3
   },
   "file_extension": ".py",
   "mimetype": "text/x-python",
   "name": "python",
   "nbconvert_exporter": "python",
   "pygments_lexer": "ipython3",
   "version": "3.11.5"
  }
 },
 "nbformat": 4,
 "nbformat_minor": 5
}
