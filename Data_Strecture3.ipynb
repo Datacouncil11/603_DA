{
 "cells": [
  {
   "cell_type": "markdown",
   "id": "ad3d3f9a",
   "metadata": {},
   "source": [
    "# Set"
   ]
  },
  {
   "cell_type": "code",
   "execution_count": 1,
   "id": "1af42e09",
   "metadata": {},
   "outputs": [],
   "source": [
    "emp_set = set()"
   ]
  },
  {
   "cell_type": "code",
   "execution_count": 2,
   "id": "8513c345",
   "metadata": {},
   "outputs": [
    {
     "data": {
      "text/plain": [
       "set()"
      ]
     },
     "execution_count": 2,
     "metadata": {},
     "output_type": "execute_result"
    }
   ],
   "source": [
    "emp_set"
   ]
  },
  {
   "cell_type": "code",
   "execution_count": 3,
   "id": "b1954672",
   "metadata": {},
   "outputs": [
    {
     "data": {
      "text/plain": [
       "set"
      ]
     },
     "execution_count": 3,
     "metadata": {},
     "output_type": "execute_result"
    }
   ],
   "source": [
    "type(emp_set)"
   ]
  },
  {
   "cell_type": "code",
   "execution_count": 4,
   "id": "a0ac5a2b",
   "metadata": {},
   "outputs": [],
   "source": [
    "fruit = set('Mango')"
   ]
  },
  {
   "cell_type": "code",
   "execution_count": 5,
   "id": "d1bf80ff",
   "metadata": {},
   "outputs": [
    {
     "data": {
      "text/plain": [
       "{'M', 'a', 'g', 'n', 'o'}"
      ]
     },
     "execution_count": 5,
     "metadata": {},
     "output_type": "execute_result"
    }
   ],
   "source": [
    "fruit"
   ]
  },
  {
   "cell_type": "code",
   "execution_count": 6,
   "id": "b660b3b9",
   "metadata": {},
   "outputs": [],
   "source": [
    "num = {1,2,3}"
   ]
  },
  {
   "cell_type": "code",
   "execution_count": 7,
   "id": "a79bb2f1",
   "metadata": {},
   "outputs": [
    {
     "data": {
      "text/plain": [
       "{1, 2, 3}"
      ]
     },
     "execution_count": 7,
     "metadata": {},
     "output_type": "execute_result"
    }
   ],
   "source": [
    "num"
   ]
  },
  {
   "cell_type": "code",
   "execution_count": 8,
   "id": "5be204ce",
   "metadata": {},
   "outputs": [
    {
     "data": {
      "text/plain": [
       "set"
      ]
     },
     "execution_count": 8,
     "metadata": {},
     "output_type": "execute_result"
    }
   ],
   "source": [
    "type(num)"
   ]
  },
  {
   "cell_type": "code",
   "execution_count": 9,
   "id": "f5d05e09",
   "metadata": {},
   "outputs": [],
   "source": [
    "numbers = {1,1,2,2,3,3}"
   ]
  },
  {
   "cell_type": "code",
   "execution_count": 11,
   "id": "57390627",
   "metadata": {},
   "outputs": [
    {
     "data": {
      "text/plain": [
       "{1, 2, 3}"
      ]
     },
     "execution_count": 11,
     "metadata": {},
     "output_type": "execute_result"
    }
   ],
   "source": [
    "numbers"
   ]
  },
  {
   "cell_type": "code",
   "execution_count": 12,
   "id": "e8d02329",
   "metadata": {},
   "outputs": [],
   "source": [
    "nums = {10,5,8,2,7}"
   ]
  },
  {
   "cell_type": "code",
   "execution_count": 13,
   "id": "61056d3d",
   "metadata": {},
   "outputs": [
    {
     "data": {
      "text/plain": [
       "{2, 5, 7, 8, 10}"
      ]
     },
     "execution_count": 13,
     "metadata": {},
     "output_type": "execute_result"
    }
   ],
   "source": [
    "nums"
   ]
  },
  {
   "cell_type": "code",
   "execution_count": 14,
   "id": "34ab3827",
   "metadata": {},
   "outputs": [],
   "source": [
    "num_list = [100,300,500,200,400,500]"
   ]
  },
  {
   "cell_type": "code",
   "execution_count": 15,
   "id": "b0ddebcc",
   "metadata": {},
   "outputs": [
    {
     "data": {
      "text/plain": [
       "[100, 300, 500, 200, 400, 500]"
      ]
     },
     "execution_count": 15,
     "metadata": {},
     "output_type": "execute_result"
    }
   ],
   "source": [
    "num_list"
   ]
  },
  {
   "cell_type": "code",
   "execution_count": 17,
   "id": "0a2c76aa",
   "metadata": {},
   "outputs": [],
   "source": [
    "num_set = set(num_list)"
   ]
  },
  {
   "cell_type": "code",
   "execution_count": 18,
   "id": "d4b6e8d1",
   "metadata": {},
   "outputs": [
    {
     "data": {
      "text/plain": [
       "{100, 200, 300, 400, 500}"
      ]
     },
     "execution_count": 18,
     "metadata": {},
     "output_type": "execute_result"
    }
   ],
   "source": [
    "num_set"
   ]
  },
  {
   "cell_type": "code",
   "execution_count": 19,
   "id": "afca1603",
   "metadata": {},
   "outputs": [],
   "source": [
    "num_set.remove(100)"
   ]
  },
  {
   "cell_type": "code",
   "execution_count": 20,
   "id": "c985581b",
   "metadata": {},
   "outputs": [
    {
     "data": {
      "text/plain": [
       "{200, 300, 400, 500}"
      ]
     },
     "execution_count": 20,
     "metadata": {},
     "output_type": "execute_result"
    }
   ],
   "source": [
    "num_set"
   ]
  },
  {
   "cell_type": "code",
   "execution_count": 21,
   "id": "2069b5ae",
   "metadata": {},
   "outputs": [
    {
     "data": {
      "text/plain": [
       "200"
      ]
     },
     "execution_count": 21,
     "metadata": {},
     "output_type": "execute_result"
    }
   ],
   "source": [
    "num_set.pop()"
   ]
  },
  {
   "cell_type": "code",
   "execution_count": 22,
   "id": "30de6e1d",
   "metadata": {},
   "outputs": [
    {
     "data": {
      "text/plain": [
       "{300, 400, 500}"
      ]
     },
     "execution_count": 22,
     "metadata": {},
     "output_type": "execute_result"
    }
   ],
   "source": [
    "num_set"
   ]
  },
  {
   "cell_type": "code",
   "execution_count": 24,
   "id": "50eafda1",
   "metadata": {},
   "outputs": [],
   "source": [
    "num_set.update({100})"
   ]
  },
  {
   "cell_type": "code",
   "execution_count": 25,
   "id": "8ae57589",
   "metadata": {},
   "outputs": [
    {
     "data": {
      "text/plain": [
       "{100, 300, 400, 500}"
      ]
     },
     "execution_count": 25,
     "metadata": {},
     "output_type": "execute_result"
    }
   ],
   "source": [
    "num_set"
   ]
  },
  {
   "cell_type": "code",
   "execution_count": 26,
   "id": "8f5bb223",
   "metadata": {},
   "outputs": [],
   "source": [
    "num_set.update({'Data','Science'})"
   ]
  },
  {
   "cell_type": "code",
   "execution_count": 27,
   "id": "8a030362",
   "metadata": {},
   "outputs": [
    {
     "data": {
      "text/plain": [
       "{100, 300, 400, 500, 'Data', 'Science'}"
      ]
     },
     "execution_count": 27,
     "metadata": {},
     "output_type": "execute_result"
    }
   ],
   "source": [
    "num_set"
   ]
  },
  {
   "cell_type": "code",
   "execution_count": 28,
   "id": "81326e2b",
   "metadata": {},
   "outputs": [],
   "source": [
    "a_set = {1,2,3,4,5}"
   ]
  },
  {
   "cell_type": "code",
   "execution_count": 29,
   "id": "ddeec7d3",
   "metadata": {},
   "outputs": [],
   "source": [
    "b_set = {4,5,6,7,8}"
   ]
  },
  {
   "cell_type": "code",
   "execution_count": 30,
   "id": "dda6fcb0",
   "metadata": {},
   "outputs": [
    {
     "data": {
      "text/plain": [
       "{1, 2, 3, 4, 5, 6, 7, 8}"
      ]
     },
     "execution_count": 30,
     "metadata": {},
     "output_type": "execute_result"
    }
   ],
   "source": [
    "a_set.union(b_set)"
   ]
  },
  {
   "cell_type": "code",
   "execution_count": null,
   "id": "1e5001ed",
   "metadata": {},
   "outputs": [],
   "source": []
  }
 ],
 "metadata": {
  "kernelspec": {
   "display_name": "Python 3 (ipykernel)",
   "language": "python",
   "name": "python3"
  },
  "language_info": {
   "codemirror_mode": {
    "name": "ipython",
    "version": 3
   },
   "file_extension": ".py",
   "mimetype": "text/x-python",
   "name": "python",
   "nbconvert_exporter": "python",
   "pygments_lexer": "ipython3",
   "version": "3.11.5"
  }
 },
 "nbformat": 4,
 "nbformat_minor": 5
}
