{
 "cells": [
  {
   "cell_type": "markdown",
   "id": "19d5245d",
   "metadata": {},
   "source": [
    "# Data Types in python"
   ]
  },
  {
   "cell_type": "raw",
   "id": "8576eb23",
   "metadata": {},
   "source": [
    "Integer:- Integer is complete number\n",
    "    Eg: No of family members\n",
    "    No of bank accounts"
   ]
  },
  {
   "cell_type": "code",
   "execution_count": 2,
   "id": "6f7341df",
   "metadata": {},
   "outputs": [
    {
     "data": {
      "text/plain": [
       "5"
      ]
     },
     "execution_count": 2,
     "metadata": {},
     "output_type": "execute_result"
    }
   ],
   "source": [
    "5"
   ]
  },
  {
   "cell_type": "code",
   "execution_count": 3,
   "id": "aabc9765",
   "metadata": {},
   "outputs": [
    {
     "data": {
      "text/plain": [
       "int"
      ]
     },
     "execution_count": 3,
     "metadata": {},
     "output_type": "execute_result"
    }
   ],
   "source": [
    "type(5)"
   ]
  },
  {
   "cell_type": "markdown",
   "id": "ef61babe",
   "metadata": {},
   "source": [
    "Float"
   ]
  },
  {
   "cell_type": "raw",
   "id": "466d58b9",
   "metadata": {},
   "source": [
    "Float is in decimal points.\n",
    "Ef: Weight, Height"
   ]
  },
  {
   "cell_type": "code",
   "execution_count": 4,
   "id": "645e66cc",
   "metadata": {},
   "outputs": [
    {
     "data": {
      "text/plain": [
       "6.3"
      ]
     },
     "execution_count": 4,
     "metadata": {},
     "output_type": "execute_result"
    }
   ],
   "source": [
    "6.3"
   ]
  },
  {
   "cell_type": "code",
   "execution_count": 5,
   "id": "443113e2",
   "metadata": {},
   "outputs": [
    {
     "data": {
      "text/plain": [
       "float"
      ]
     },
     "execution_count": 5,
     "metadata": {},
     "output_type": "execute_result"
    }
   ],
   "source": [
    "type(6.3)"
   ]
  },
  {
   "cell_type": "markdown",
   "id": "84bcc2ac",
   "metadata": {},
   "source": [
    "Complex Number"
   ]
  },
  {
   "cell_type": "markdown",
   "id": "e1d65145",
   "metadata": {},
   "source": [
    "Vectors values--> To show direction"
   ]
  },
  {
   "cell_type": "code",
   "execution_count": 6,
   "id": "e837a6d4",
   "metadata": {},
   "outputs": [
    {
     "data": {
      "text/plain": [
       "(17+6j)"
      ]
     },
     "execution_count": 6,
     "metadata": {},
     "output_type": "execute_result"
    }
   ],
   "source": [
    "17+6j"
   ]
  },
  {
   "cell_type": "code",
   "execution_count": 7,
   "id": "8dd65f59",
   "metadata": {},
   "outputs": [
    {
     "data": {
      "text/plain": [
       "complex"
      ]
     },
     "execution_count": 7,
     "metadata": {},
     "output_type": "execute_result"
    }
   ],
   "source": [
    "type(17+6j)"
   ]
  },
  {
   "cell_type": "markdown",
   "id": "3dd174c0",
   "metadata": {},
   "source": [
    "String"
   ]
  },
  {
   "cell_type": "markdown",
   "id": "05c6e8da",
   "metadata": {},
   "source": [
    "Words, sentences --> Strings\n",
    "We have to write it always in single or double quotes"
   ]
  },
  {
   "cell_type": "code",
   "execution_count": 8,
   "id": "92ea8a96",
   "metadata": {},
   "outputs": [
    {
     "data": {
      "text/plain": [
       "'Data'"
      ]
     },
     "execution_count": 8,
     "metadata": {},
     "output_type": "execute_result"
    }
   ],
   "source": [
    "'Data'"
   ]
  },
  {
   "cell_type": "code",
   "execution_count": 9,
   "id": "a0189b70",
   "metadata": {},
   "outputs": [
    {
     "data": {
      "text/plain": [
       "'Science'"
      ]
     },
     "execution_count": 9,
     "metadata": {},
     "output_type": "execute_result"
    }
   ],
   "source": [
    "\"Science\""
   ]
  },
  {
   "cell_type": "code",
   "execution_count": 11,
   "id": "b5a30239",
   "metadata": {},
   "outputs": [
    {
     "data": {
      "text/plain": [
       "str"
      ]
     },
     "execution_count": 11,
     "metadata": {},
     "output_type": "execute_result"
    }
   ],
   "source": [
    "type('Data')"
   ]
  },
  {
   "cell_type": "markdown",
   "id": "4e70a8f4",
   "metadata": {},
   "source": [
    "Boolean\n",
    "True and False"
   ]
  },
  {
   "cell_type": "code",
   "execution_count": 12,
   "id": "5ca4fd34",
   "metadata": {},
   "outputs": [
    {
     "data": {
      "text/plain": [
       "True"
      ]
     },
     "execution_count": 12,
     "metadata": {},
     "output_type": "execute_result"
    }
   ],
   "source": [
    "True"
   ]
  },
  {
   "cell_type": "code",
   "execution_count": 13,
   "id": "c6026d1b",
   "metadata": {},
   "outputs": [],
   "source": [
    "a = 'Data'"
   ]
  },
  {
   "cell_type": "code",
   "execution_count": 14,
   "id": "5b6ddfde",
   "metadata": {},
   "outputs": [
    {
     "data": {
      "text/plain": [
       "True"
      ]
     },
     "execution_count": 14,
     "metadata": {},
     "output_type": "execute_result"
    }
   ],
   "source": [
    "'Data' in a"
   ]
  },
  {
   "cell_type": "code",
   "execution_count": 15,
   "id": "1d1b3eac",
   "metadata": {},
   "outputs": [
    {
     "data": {
      "text/plain": [
       "False"
      ]
     },
     "execution_count": 15,
     "metadata": {},
     "output_type": "execute_result"
    }
   ],
   "source": [
    "'Science' in  a"
   ]
  },
  {
   "cell_type": "markdown",
   "id": "f4bb6373",
   "metadata": {},
   "source": [
    "# Operations in python"
   ]
  },
  {
   "cell_type": "code",
   "execution_count": 16,
   "id": "0995e494",
   "metadata": {},
   "outputs": [
    {
     "data": {
      "text/plain": [
       "15"
      ]
     },
     "execution_count": 16,
     "metadata": {},
     "output_type": "execute_result"
    }
   ],
   "source": [
    "10 + 5"
   ]
  },
  {
   "cell_type": "code",
   "execution_count": 17,
   "id": "56958783",
   "metadata": {},
   "outputs": [
    {
     "ename": "TypeError",
     "evalue": "unsupported operand type(s) for +: 'int' and 'str'",
     "output_type": "error",
     "traceback": [
      "\u001b[1;31m---------------------------------------------------------------------------\u001b[0m",
      "\u001b[1;31mTypeError\u001b[0m                                 Traceback (most recent call last)",
      "Cell \u001b[1;32mIn[17], line 1\u001b[0m\n\u001b[1;32m----> 1\u001b[0m \u001b[38;5;241m10\u001b[39m \u001b[38;5;241m+\u001b[39m \u001b[38;5;124m'\u001b[39m\u001b[38;5;124mData\u001b[39m\u001b[38;5;124m'\u001b[39m\n",
      "\u001b[1;31mTypeError\u001b[0m: unsupported operand type(s) for +: 'int' and 'str'"
     ]
    }
   ],
   "source": [
    "10 + 'Data'"
   ]
  },
  {
   "cell_type": "code",
   "execution_count": 18,
   "id": "fb869fb3",
   "metadata": {},
   "outputs": [
    {
     "data": {
      "text/plain": [
       "'DataAnalysis'"
      ]
     },
     "execution_count": 18,
     "metadata": {},
     "output_type": "execute_result"
    }
   ],
   "source": [
    "'Data' + 'Analysis'"
   ]
  },
  {
   "cell_type": "code",
   "execution_count": 19,
   "id": "e9343b32",
   "metadata": {},
   "outputs": [
    {
     "data": {
      "text/plain": [
       "6.5"
      ]
     },
     "execution_count": 19,
     "metadata": {},
     "output_type": "execute_result"
    }
   ],
   "source": [
    "5 + 1.5"
   ]
  },
  {
   "cell_type": "code",
   "execution_count": 20,
   "id": "c5204332",
   "metadata": {},
   "outputs": [
    {
     "data": {
      "text/plain": [
       "36"
      ]
     },
     "execution_count": 20,
     "metadata": {},
     "output_type": "execute_result"
    }
   ],
   "source": [
    "4 * 9"
   ]
  },
  {
   "cell_type": "code",
   "execution_count": 21,
   "id": "b8755026",
   "metadata": {},
   "outputs": [
    {
     "data": {
      "text/plain": [
       "32"
      ]
     },
     "execution_count": 21,
     "metadata": {},
     "output_type": "execute_result"
    }
   ],
   "source": [
    "40 - 8"
   ]
  },
  {
   "cell_type": "code",
   "execution_count": 22,
   "id": "c6c1eee3",
   "metadata": {},
   "outputs": [
    {
     "data": {
      "text/plain": [
       "'DataDataDataDataData'"
      ]
     },
     "execution_count": 22,
     "metadata": {},
     "output_type": "execute_result"
    }
   ],
   "source": [
    "'Data' * 5"
   ]
  },
  {
   "cell_type": "code",
   "execution_count": 24,
   "id": "84347b0f",
   "metadata": {},
   "outputs": [
    {
     "data": {
      "text/plain": [
       "'Data Is your course'"
      ]
     },
     "execution_count": 24,
     "metadata": {},
     "output_type": "execute_result"
    }
   ],
   "source": [
    "'Data ' + 'Is your course'"
   ]
  },
  {
   "cell_type": "code",
   "execution_count": 25,
   "id": "ad33e353",
   "metadata": {},
   "outputs": [
    {
     "data": {
      "text/plain": [
       "2.5"
      ]
     },
     "execution_count": 25,
     "metadata": {},
     "output_type": "execute_result"
    }
   ],
   "source": [
    "10 /4"
   ]
  },
  {
   "cell_type": "code",
   "execution_count": 26,
   "id": "a59f3529",
   "metadata": {},
   "outputs": [
    {
     "data": {
      "text/plain": [
       "0.3333333333333333"
      ]
     },
     "execution_count": 26,
     "metadata": {},
     "output_type": "execute_result"
    }
   ],
   "source": [
    "3/9"
   ]
  },
  {
   "cell_type": "code",
   "execution_count": 27,
   "id": "7dc7203b",
   "metadata": {},
   "outputs": [
    {
     "data": {
      "text/plain": [
       "1.9333333333333333"
      ]
     },
     "execution_count": 27,
     "metadata": {},
     "output_type": "execute_result"
    }
   ],
   "source": [
    "87/45"
   ]
  },
  {
   "cell_type": "code",
   "execution_count": null,
   "id": "f5294262",
   "metadata": {},
   "outputs": [],
   "source": []
  }
 ],
 "metadata": {
  "kernelspec": {
   "display_name": "Python 3 (ipykernel)",
   "language": "python",
   "name": "python3"
  },
  "language_info": {
   "codemirror_mode": {
    "name": "ipython",
    "version": 3
   },
   "file_extension": ".py",
   "mimetype": "text/x-python",
   "name": "python",
   "nbconvert_exporter": "python",
   "pygments_lexer": "ipython3",
   "version": "3.11.5"
  }
 },
 "nbformat": 4,
 "nbformat_minor": 5
}
