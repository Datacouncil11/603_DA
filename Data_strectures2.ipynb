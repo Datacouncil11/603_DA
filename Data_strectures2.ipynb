{
 "cells": [
  {
   "cell_type": "code",
   "execution_count": 1,
   "id": "d7b43fe6",
   "metadata": {},
   "outputs": [],
   "source": [
    "p = [1,2,3,45,6,7]"
   ]
  },
  {
   "cell_type": "code",
   "execution_count": 2,
   "id": "22377212",
   "metadata": {},
   "outputs": [
    {
     "data": {
      "text/plain": [
       "[1, 2, 3, 45]"
      ]
     },
     "execution_count": 2,
     "metadata": {},
     "output_type": "execute_result"
    }
   ],
   "source": [
    "p[0:4]"
   ]
  },
  {
   "cell_type": "code",
   "execution_count": 3,
   "id": "2f5c3150",
   "metadata": {},
   "outputs": [
    {
     "data": {
      "text/plain": [
       "list"
      ]
     },
     "execution_count": 3,
     "metadata": {},
     "output_type": "execute_result"
    }
   ],
   "source": [
    "type(p)"
   ]
  },
  {
   "cell_type": "code",
   "execution_count": 4,
   "id": "38341c5a",
   "metadata": {},
   "outputs": [],
   "source": [
    "p.append(10)"
   ]
  },
  {
   "cell_type": "code",
   "execution_count": 5,
   "id": "0a29ad08",
   "metadata": {},
   "outputs": [
    {
     "data": {
      "text/plain": [
       "[1, 2, 3, 45, 6, 7, 10]"
      ]
     },
     "execution_count": 5,
     "metadata": {},
     "output_type": "execute_result"
    }
   ],
   "source": [
    "p"
   ]
  },
  {
   "cell_type": "code",
   "execution_count": 6,
   "id": "560baa13",
   "metadata": {},
   "outputs": [],
   "source": [
    "p.extend([12])"
   ]
  },
  {
   "cell_type": "code",
   "execution_count": 7,
   "id": "3760bbb3",
   "metadata": {},
   "outputs": [
    {
     "data": {
      "text/plain": [
       "[1, 2, 3, 45, 6, 7, 10, 12]"
      ]
     },
     "execution_count": 7,
     "metadata": {},
     "output_type": "execute_result"
    }
   ],
   "source": [
    "p"
   ]
  },
  {
   "cell_type": "code",
   "execution_count": 8,
   "id": "52cc583e",
   "metadata": {},
   "outputs": [],
   "source": [
    "l = [1,2,[100,200,300],4,5]"
   ]
  },
  {
   "cell_type": "code",
   "execution_count": 9,
   "id": "6d0da828",
   "metadata": {},
   "outputs": [
    {
     "data": {
      "text/plain": [
       "[100, 200, 300]"
      ]
     },
     "execution_count": 9,
     "metadata": {},
     "output_type": "execute_result"
    }
   ],
   "source": [
    "l[2]"
   ]
  },
  {
   "cell_type": "code",
   "execution_count": 10,
   "id": "8af11ca4",
   "metadata": {},
   "outputs": [
    {
     "data": {
      "text/plain": [
       "200"
      ]
     },
     "execution_count": 10,
     "metadata": {},
     "output_type": "execute_result"
    }
   ],
   "source": [
    "l[2][1]"
   ]
  },
  {
   "cell_type": "code",
   "execution_count": 11,
   "id": "8e02ec1a",
   "metadata": {},
   "outputs": [],
   "source": [
    "k = [1,2,[\"Data\",'Science',[\"Python\",\"Stats\"],\"Data Analysis\"],3,4 ]"
   ]
  },
  {
   "cell_type": "code",
   "execution_count": 12,
   "id": "9e8606bd",
   "metadata": {},
   "outputs": [
    {
     "data": {
      "text/plain": [
       "['Data', 'Science', ['Python', 'Stats'], 'Data Analysis']"
      ]
     },
     "execution_count": 12,
     "metadata": {},
     "output_type": "execute_result"
    }
   ],
   "source": [
    "k[2]"
   ]
  },
  {
   "cell_type": "code",
   "execution_count": 13,
   "id": "6751f090",
   "metadata": {},
   "outputs": [
    {
     "data": {
      "text/plain": [
       "['Python', 'Stats']"
      ]
     },
     "execution_count": 13,
     "metadata": {},
     "output_type": "execute_result"
    }
   ],
   "source": [
    "k[2][2]"
   ]
  },
  {
   "cell_type": "code",
   "execution_count": 14,
   "id": "e242a228",
   "metadata": {},
   "outputs": [
    {
     "data": {
      "text/plain": [
       "'Stats'"
      ]
     },
     "execution_count": 14,
     "metadata": {},
     "output_type": "execute_result"
    }
   ],
   "source": [
    "k[2][2][1]"
   ]
  },
  {
   "cell_type": "code",
   "execution_count": 15,
   "id": "1df1b41a",
   "metadata": {},
   "outputs": [
    {
     "data": {
      "text/plain": [
       "[1, 2, 3, 45, 6, 7, 10, 12]"
      ]
     },
     "execution_count": 15,
     "metadata": {},
     "output_type": "execute_result"
    }
   ],
   "source": [
    "p"
   ]
  },
  {
   "cell_type": "code",
   "execution_count": 16,
   "id": "682afb41",
   "metadata": {},
   "outputs": [
    {
     "data": {
      "text/plain": [
       "[1, 2, ['Data', 'Science', ['Python', 'Stats'], 'Data Analysis'], 3, 4]"
      ]
     },
     "execution_count": 16,
     "metadata": {},
     "output_type": "execute_result"
    }
   ],
   "source": [
    "k"
   ]
  },
  {
   "cell_type": "code",
   "execution_count": 17,
   "id": "d3cc5b08",
   "metadata": {},
   "outputs": [
    {
     "data": {
      "text/plain": [
       "[1,\n",
       " 2,\n",
       " 3,\n",
       " 45,\n",
       " 6,\n",
       " 7,\n",
       " 10,\n",
       " 12,\n",
       " 1,\n",
       " 2,\n",
       " ['Data', 'Science', ['Python', 'Stats'], 'Data Analysis'],\n",
       " 3,\n",
       " 4]"
      ]
     },
     "execution_count": 17,
     "metadata": {},
     "output_type": "execute_result"
    }
   ],
   "source": [
    "p + k"
   ]
  },
  {
   "cell_type": "code",
   "execution_count": 18,
   "id": "8f7408d4",
   "metadata": {},
   "outputs": [
    {
     "data": {
      "text/plain": [
       "[1, 2, 3, 45, 6, 7, 10, 12]"
      ]
     },
     "execution_count": 18,
     "metadata": {},
     "output_type": "execute_result"
    }
   ],
   "source": [
    "p"
   ]
  },
  {
   "cell_type": "code",
   "execution_count": 19,
   "id": "98a479e4",
   "metadata": {},
   "outputs": [
    {
     "data": {
      "text/plain": [
       "8"
      ]
     },
     "execution_count": 19,
     "metadata": {},
     "output_type": "execute_result"
    }
   ],
   "source": [
    "len(p)"
   ]
  },
  {
   "cell_type": "code",
   "execution_count": 20,
   "id": "c466e899",
   "metadata": {},
   "outputs": [
    {
     "data": {
      "text/plain": [
       "5"
      ]
     },
     "execution_count": 20,
     "metadata": {},
     "output_type": "execute_result"
    }
   ],
   "source": [
    "len(k)"
   ]
  },
  {
   "cell_type": "code",
   "execution_count": 22,
   "id": "1c15ba91",
   "metadata": {},
   "outputs": [
    {
     "data": {
      "text/plain": [
       "[1, 2, 3, 45, 6, 7, 10, 12, 1, 2, 3, 45, 6, 7, 10, 12]"
      ]
     },
     "execution_count": 22,
     "metadata": {},
     "output_type": "execute_result"
    }
   ],
   "source": [
    "p * 2"
   ]
  },
  {
   "cell_type": "code",
   "execution_count": 23,
   "id": "b991500e",
   "metadata": {},
   "outputs": [
    {
     "data": {
      "text/plain": [
       "[1, 2, 3, 45, 6, 7, 10, 12]"
      ]
     },
     "execution_count": 23,
     "metadata": {},
     "output_type": "execute_result"
    }
   ],
   "source": [
    "p"
   ]
  },
  {
   "cell_type": "code",
   "execution_count": 26,
   "id": "6a52fcbe",
   "metadata": {},
   "outputs": [],
   "source": [
    "p[3] = 4 # Modify"
   ]
  },
  {
   "cell_type": "code",
   "execution_count": 25,
   "id": "cdecf2a4",
   "metadata": {},
   "outputs": [
    {
     "data": {
      "text/plain": [
       "[1, 2, 3, 4, 6, 7, 10, 12]"
      ]
     },
     "execution_count": 25,
     "metadata": {},
     "output_type": "execute_result"
    }
   ],
   "source": [
    "p"
   ]
  },
  {
   "cell_type": "code",
   "execution_count": 27,
   "id": "87a595ea",
   "metadata": {},
   "outputs": [],
   "source": [
    "#Slicing"
   ]
  },
  {
   "cell_type": "code",
   "execution_count": 29,
   "id": "e53d9e28",
   "metadata": {},
   "outputs": [
    {
     "data": {
      "text/plain": [
       "[3, 4, 6]"
      ]
     },
     "execution_count": 29,
     "metadata": {},
     "output_type": "execute_result"
    }
   ],
   "source": [
    "p[2:5]"
   ]
  },
  {
   "cell_type": "code",
   "execution_count": 30,
   "id": "ad04d278",
   "metadata": {},
   "outputs": [
    {
     "data": {
      "text/plain": [
       "[1, 2, 3, 4, 6, 7, 10, 12]"
      ]
     },
     "execution_count": 30,
     "metadata": {},
     "output_type": "execute_result"
    }
   ],
   "source": [
    "p"
   ]
  },
  {
   "cell_type": "code",
   "execution_count": 31,
   "id": "d703c490",
   "metadata": {},
   "outputs": [
    {
     "data": {
      "text/plain": [
       "True"
      ]
     },
     "execution_count": 31,
     "metadata": {},
     "output_type": "execute_result"
    }
   ],
   "source": [
    "10 in p"
   ]
  },
  {
   "cell_type": "code",
   "execution_count": 32,
   "id": "ff758236",
   "metadata": {},
   "outputs": [
    {
     "data": {
      "text/plain": [
       "False"
      ]
     },
     "execution_count": 32,
     "metadata": {},
     "output_type": "execute_result"
    }
   ],
   "source": [
    "300 in p"
   ]
  },
  {
   "cell_type": "code",
   "execution_count": 33,
   "id": "3f30f27f",
   "metadata": {},
   "outputs": [],
   "source": [
    "j = [6,8,4,0,2,5]"
   ]
  },
  {
   "cell_type": "code",
   "execution_count": 34,
   "id": "9d8308a3",
   "metadata": {},
   "outputs": [],
   "source": [
    "j.sort()"
   ]
  },
  {
   "cell_type": "code",
   "execution_count": 35,
   "id": "4a8bf67c",
   "metadata": {},
   "outputs": [
    {
     "data": {
      "text/plain": [
       "[0, 2, 4, 5, 6, 8]"
      ]
     },
     "execution_count": 35,
     "metadata": {},
     "output_type": "execute_result"
    }
   ],
   "source": [
    "j"
   ]
  },
  {
   "cell_type": "code",
   "execution_count": 36,
   "id": "91b7e102",
   "metadata": {},
   "outputs": [
    {
     "data": {
      "text/plain": [
       "[8, 6, 5, 4, 2, 0]"
      ]
     },
     "execution_count": 36,
     "metadata": {},
     "output_type": "execute_result"
    }
   ],
   "source": [
    "j[::-1]"
   ]
  },
  {
   "cell_type": "code",
   "execution_count": 37,
   "id": "b3543e27",
   "metadata": {},
   "outputs": [],
   "source": [
    "j.reverse()"
   ]
  },
  {
   "cell_type": "code",
   "execution_count": 38,
   "id": "626d6734",
   "metadata": {},
   "outputs": [
    {
     "data": {
      "text/plain": [
       "[8, 6, 5, 4, 2, 0]"
      ]
     },
     "execution_count": 38,
     "metadata": {},
     "output_type": "execute_result"
    }
   ],
   "source": [
    "j"
   ]
  },
  {
   "cell_type": "markdown",
   "id": "ab6e1879",
   "metadata": {},
   "source": [
    "# Tuple"
   ]
  },
  {
   "cell_type": "raw",
   "id": "bb128a75",
   "metadata": {},
   "source": [
    "Tuple is written in parenthesis ()\n",
    "We canr modify or change the tuple after once created/ Immutable.\n",
    "Tuple consumes less memory compare to list."
   ]
  },
  {
   "cell_type": "code",
   "execution_count": 39,
   "id": "25cf7809",
   "metadata": {},
   "outputs": [],
   "source": [
    "emp_tup = ()"
   ]
  },
  {
   "cell_type": "code",
   "execution_count": 40,
   "id": "a21e182d",
   "metadata": {},
   "outputs": [],
   "source": [
    "num = (1,2,3,4)"
   ]
  },
  {
   "cell_type": "code",
   "execution_count": 41,
   "id": "c1f33b88",
   "metadata": {},
   "outputs": [
    {
     "data": {
      "text/plain": [
       "(1, 2, 3, 4)"
      ]
     },
     "execution_count": 41,
     "metadata": {},
     "output_type": "execute_result"
    }
   ],
   "source": [
    "num"
   ]
  },
  {
   "cell_type": "code",
   "execution_count": 42,
   "id": "b0cb69d4",
   "metadata": {},
   "outputs": [],
   "source": [
    "names = ('Sam','John','Rock')"
   ]
  },
  {
   "cell_type": "code",
   "execution_count": 43,
   "id": "7cd1cc02",
   "metadata": {},
   "outputs": [
    {
     "data": {
      "text/plain": [
       "('Sam', 'John', 'Rock')"
      ]
     },
     "execution_count": 43,
     "metadata": {},
     "output_type": "execute_result"
    }
   ],
   "source": [
    "names"
   ]
  },
  {
   "cell_type": "code",
   "execution_count": 44,
   "id": "673e8b17",
   "metadata": {},
   "outputs": [],
   "source": [
    "mixed_tup = (10,True,\"Data\",10+7j, 4.5)"
   ]
  },
  {
   "cell_type": "code",
   "execution_count": 45,
   "id": "5ac1f9a4",
   "metadata": {},
   "outputs": [
    {
     "data": {
      "text/plain": [
       "(10, True, 'Data', (10+7j), 4.5)"
      ]
     },
     "execution_count": 45,
     "metadata": {},
     "output_type": "execute_result"
    }
   ],
   "source": [
    "mixed_tup"
   ]
  },
  {
   "cell_type": "code",
   "execution_count": 46,
   "id": "a5613db0",
   "metadata": {},
   "outputs": [
    {
     "data": {
      "text/plain": [
       "True"
      ]
     },
     "execution_count": 46,
     "metadata": {},
     "output_type": "execute_result"
    }
   ],
   "source": [
    "mixed_tup[1]"
   ]
  },
  {
   "cell_type": "code",
   "execution_count": 47,
   "id": "08e0f31b",
   "metadata": {},
   "outputs": [
    {
     "data": {
      "text/plain": [
       "(10+7j)"
      ]
     },
     "execution_count": 47,
     "metadata": {},
     "output_type": "execute_result"
    }
   ],
   "source": [
    "mixed_tup[3]"
   ]
  },
  {
   "cell_type": "code",
   "execution_count": 48,
   "id": "2a406f7d",
   "metadata": {},
   "outputs": [
    {
     "data": {
      "text/plain": [
       "(1, 2, 3, 4, 'Sam', 'John', 'Rock')"
      ]
     },
     "execution_count": 48,
     "metadata": {},
     "output_type": "execute_result"
    }
   ],
   "source": [
    "num + names"
   ]
  },
  {
   "cell_type": "code",
   "execution_count": 49,
   "id": "0c88f1df",
   "metadata": {},
   "outputs": [
    {
     "data": {
      "text/plain": [
       "tuple"
      ]
     },
     "execution_count": 49,
     "metadata": {},
     "output_type": "execute_result"
    }
   ],
   "source": [
    "type(num)"
   ]
  },
  {
   "cell_type": "code",
   "execution_count": 50,
   "id": "3ee11340",
   "metadata": {},
   "outputs": [
    {
     "data": {
      "text/plain": [
       "(1, 2, 3, 4, 1, 2, 3, 4)"
      ]
     },
     "execution_count": 50,
     "metadata": {},
     "output_type": "execute_result"
    }
   ],
   "source": [
    "num * 2"
   ]
  },
  {
   "cell_type": "code",
   "execution_count": 51,
   "id": "4dee73ef",
   "metadata": {},
   "outputs": [
    {
     "data": {
      "text/plain": [
       "(True, 'Data', (10+7j))"
      ]
     },
     "execution_count": 51,
     "metadata": {},
     "output_type": "execute_result"
    }
   ],
   "source": [
    "mixed_tup[1:4]"
   ]
  },
  {
   "cell_type": "code",
   "execution_count": 52,
   "id": "468efce5",
   "metadata": {},
   "outputs": [
    {
     "data": {
      "text/plain": [
       "2"
      ]
     },
     "execution_count": 52,
     "metadata": {},
     "output_type": "execute_result"
    }
   ],
   "source": [
    "num.index(3)"
   ]
  },
  {
   "cell_type": "code",
   "execution_count": 54,
   "id": "eced07ec",
   "metadata": {},
   "outputs": [
    {
     "data": {
      "text/plain": [
       "4"
      ]
     },
     "execution_count": 54,
     "metadata": {},
     "output_type": "execute_result"
    }
   ],
   "source": [
    "mixed_tup.index(4.5)"
   ]
  },
  {
   "cell_type": "code",
   "execution_count": 55,
   "id": "cc331981",
   "metadata": {},
   "outputs": [
    {
     "data": {
      "text/plain": [
       "1"
      ]
     },
     "execution_count": 55,
     "metadata": {},
     "output_type": "execute_result"
    }
   ],
   "source": [
    "mixed_tup.count(1)"
   ]
  },
  {
   "cell_type": "code",
   "execution_count": 56,
   "id": "ae0fee11",
   "metadata": {},
   "outputs": [],
   "source": [
    "k = (1,1,2,3,4,4,4,5,5)"
   ]
  },
  {
   "cell_type": "code",
   "execution_count": 57,
   "id": "c88eacdc",
   "metadata": {},
   "outputs": [
    {
     "data": {
      "text/plain": [
       "2"
      ]
     },
     "execution_count": 57,
     "metadata": {},
     "output_type": "execute_result"
    }
   ],
   "source": [
    "k.count(1)"
   ]
  },
  {
   "cell_type": "code",
   "execution_count": 58,
   "id": "03b72100",
   "metadata": {},
   "outputs": [
    {
     "data": {
      "text/plain": [
       "1"
      ]
     },
     "execution_count": 58,
     "metadata": {},
     "output_type": "execute_result"
    }
   ],
   "source": [
    "k.count(2)"
   ]
  },
  {
   "cell_type": "code",
   "execution_count": 59,
   "id": "c42663cf",
   "metadata": {},
   "outputs": [
    {
     "data": {
      "text/plain": [
       "3"
      ]
     },
     "execution_count": 59,
     "metadata": {},
     "output_type": "execute_result"
    }
   ],
   "source": [
    "k.count(4)"
   ]
  },
  {
   "cell_type": "code",
   "execution_count": 60,
   "id": "d7e3dca4",
   "metadata": {},
   "outputs": [
    {
     "data": {
      "text/plain": [
       "2"
      ]
     },
     "execution_count": 60,
     "metadata": {},
     "output_type": "execute_result"
    }
   ],
   "source": [
    "k.count(5)"
   ]
  },
  {
   "cell_type": "code",
   "execution_count": 61,
   "id": "5b5a2750",
   "metadata": {},
   "outputs": [
    {
     "data": {
      "text/plain": [
       "(1, 1, 2, 3, 4, 4, 4, 5, 5)"
      ]
     },
     "execution_count": 61,
     "metadata": {},
     "output_type": "execute_result"
    }
   ],
   "source": [
    "k"
   ]
  },
  {
   "cell_type": "code",
   "execution_count": 62,
   "id": "eebd8419",
   "metadata": {},
   "outputs": [
    {
     "ename": "TypeError",
     "evalue": "'tuple' object does not support item assignment",
     "output_type": "error",
     "traceback": [
      "\u001b[1;31m---------------------------------------------------------------------------\u001b[0m",
      "\u001b[1;31mTypeError\u001b[0m                                 Traceback (most recent call last)",
      "Cell \u001b[1;32mIn[62], line 1\u001b[0m\n\u001b[1;32m----> 1\u001b[0m k[\u001b[38;5;241m1\u001b[39m] \u001b[38;5;241m=\u001b[39m \u001b[38;5;241m100\u001b[39m\n",
      "\u001b[1;31mTypeError\u001b[0m: 'tuple' object does not support item assignment"
     ]
    }
   ],
   "source": [
    "k[1] = 100"
   ]
  },
  {
   "cell_type": "code",
   "execution_count": null,
   "id": "87a8dd51",
   "metadata": {},
   "outputs": [],
   "source": [
    "# IMP\n",
    "# Diff b/w List and tuple\n",
    "# List is written in square bracket []  # Tuple is written in parenthesis ()\n",
    "# List is mutable / Change elements      # Tuple is immutable / Cant upadte or change elements\n",
    "# List consume more memory               # tuple consumes less memory compare to tuple"
   ]
  }
 ],
 "metadata": {
  "kernelspec": {
   "display_name": "Python 3 (ipykernel)",
   "language": "python",
   "name": "python3"
  },
  "language_info": {
   "codemirror_mode": {
    "name": "ipython",
    "version": 3
   },
   "file_extension": ".py",
   "mimetype": "text/x-python",
   "name": "python",
   "nbconvert_exporter": "python",
   "pygments_lexer": "ipython3",
   "version": "3.11.5"
  }
 },
 "nbformat": 4,
 "nbformat_minor": 5
}
